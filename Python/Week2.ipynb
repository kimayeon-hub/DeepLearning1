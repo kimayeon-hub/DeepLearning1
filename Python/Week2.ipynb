{
  "nbformat": 4,
  "nbformat_minor": 0,
  "metadata": {
    "colab": {
      "provenance": [],
      "authorship_tag": "ABX9TyO10pHgyTYExiwfbpXqFbkl",
      "include_colab_link": true
    },
    "kernelspec": {
      "name": "python3",
      "display_name": "Python 3"
    },
    "language_info": {
      "name": "python"
    }
  },
  "cells": [
    {
      "cell_type": "markdown",
      "metadata": {
        "id": "view-in-github",
        "colab_type": "text"
      },
      "source": [
        "<a href=\"https://colab.research.google.com/github/kimayeon-hub/DeepLearning1/blob/main/Python/Week2.ipynb\" target=\"_parent\"><img src=\"https://colab.research.google.com/assets/colab-badge.svg\" alt=\"Open In Colab\"/></a>"
      ]
    },
    {
      "cell_type": "markdown",
      "source": [
        "# 반목문(for)과 조건문(if) 연습"
      ],
      "metadata": {
        "id": "T4BfcanLZ1OZ"
      }
    },
    {
      "cell_type": "markdown",
      "source": [
        "### 문제1\n",
        "1부터 200까지의 숫자 중에서 4의 배수이면서 6의 배수인 숫자들의 합을 구하는 함수를 작성하시오. 합이 1000을 초과하면 멈추고 그때까지의 합을 반환하시오."
      ],
      "metadata": {
        "id": "SnRd6UkgZ-G0"
      }
    },
    {
      "cell_type": "code",
      "execution_count": 31,
      "metadata": {
        "colab": {
          "base_uri": "https://localhost:8080/"
        },
        "id": "zUSrMdn7ZgsK",
        "outputId": "1e055d86-a503-4c4e-cff9-4fc026231502"
      },
      "outputs": [
        {
          "output_type": "execute_result",
          "data": {
            "text/plain": [
              "1092"
            ]
          },
          "metadata": {},
          "execution_count": 31
        }
      ],
      "source": [
        "def Sum():\n",
        "  sum = 0\n",
        "  for num in range(1, 201):\n",
        "    if num % 4 == 0 and num % 6 == 0:\n",
        "      sum += num\n",
        "    if sum > 1000:\n",
        "      break\n",
        "  return sum\n",
        "\n",
        "Sum()"
      ]
    },
    {
      "cell_type": "markdown",
      "source": [
        "### 문제2\n",
        "세 개의 정수를 입력받아 가장 큰 수와 가장 작은 수를 찾아 출력하는 함수를 작성하시오. 단, 세 수가 모두 같으면 '모든 수가 같습니다'를 반환하시오."
      ],
      "metadata": {
        "id": "LWlCZgFEZz_k"
      }
    },
    {
      "cell_type": "code",
      "source": [
        "def find_max_min(num1, num2, num3):\n",
        "  if num1 == num2 == num3:\n",
        "    return '모든 수가 같습니다'\n",
        "\n",
        "  if num1 >= num2 and num1 >= num3:\n",
        "    max = num1\n",
        "  elif num2 >= num1 and num2 >= num3:\n",
        "    max = num2\n",
        "  else:\n",
        "    max = num3\n",
        "\n",
        "  if num1 <= num2 and num1 <= num3:\n",
        "    min = num1\n",
        "  elif num2 <= num1 and num2 <= num3:\n",
        "    min = num2\n",
        "  else:\n",
        "    min = num3\n",
        "\n",
        "  return max, min\n",
        "\n",
        "find_max_min(1, 5, 5)"
      ],
      "metadata": {
        "colab": {
          "base_uri": "https://localhost:8080/"
        },
        "id": "nppQ90YZbIGi",
        "outputId": "68a210d1-a91f-4dc4-8f6d-0f589f4c499a"
      },
      "execution_count": 28,
      "outputs": [
        {
          "output_type": "execute_result",
          "data": {
            "text/plain": [
              "(5, 1)"
            ]
          },
          "metadata": {},
          "execution_count": 28
        }
      ]
    },
    {
      "cell_type": "markdown",
      "source": [
        "# 리스트(list) 연습"
      ],
      "metadata": {
        "id": "4PwaMduBhcez"
      }
    },
    {
      "cell_type": "markdown",
      "source": [
        "### 문제3\n",
        "일주일 동안 카페에서 사용한 카드 금액이 일 단위로 리스트에 저장되어 있다. 이 리스트를 받아, 총 지출과 하루 평균 지출을 반환하는 함수를 작성하시오."
      ],
      "metadata": {
        "id": "PskZj0UuiQCE"
      }
    },
    {
      "cell_type": "code",
      "source": [
        "def total_mean_sqending(log_list):\n",
        "  total = sum(log_list)\n",
        "  avg = total / len(log_list)\n",
        "  return total, avg\n",
        "\n",
        "total_mean_sqending([1000, 2000, 3000, 4000, 5000, 6000, 7000])"
      ],
      "metadata": {
        "colab": {
          "base_uri": "https://localhost:8080/"
        },
        "id": "zZ7NmCA0dKjg",
        "outputId": "96e7d1e9-9a91-47a0-c447-680b95d181cc"
      },
      "execution_count": 35,
      "outputs": [
        {
          "output_type": "execute_result",
          "data": {
            "text/plain": [
              "(28000, 4000.0)"
            ]
          },
          "metadata": {},
          "execution_count": 35
        }
      ]
    },
    {
      "cell_type": "markdown",
      "source": [
        "### 문제4\n",
        "어떤 사람이 매달 저축한 금액, 연, 월 정보를 배열로 입력받아, 다음 정보를 반환하는 함수를 작성하시오.\n",
        "1. 연간 총 저축액\n",
        "2. 가장 적게 저축한 연/월\n",
        "\n",
        "단, 연, 월 정보와 저축핵 정보는 별도의 리스트에 저장되어 있다."
      ],
      "metadata": {
        "id": "5qEeAxmZkihC"
      }
    },
    {
      "cell_type": "code",
      "source": [
        "saving = [20, 30, 25, 18, 57, 19, 50, 20, 10, 100, 14, 5]\n",
        "year = [2024, 2024, 2024, 2024, 2024, 2024, 2024, 2024 ,2024, 2024, 2024, 2024]\n",
        "month = [1, 2, 3, 4, 5, 6, 7, 8, 9, 10, 11, 12]"
      ],
      "metadata": {
        "id": "OwxG8iD5isp3"
      },
      "execution_count": 42,
      "outputs": []
    },
    {
      "cell_type": "code",
      "source": [
        "def saveMoney_minYM(prices, years, months):\n",
        "  total = sum(prices)\n",
        "\n",
        "  # min = prices[0]\n",
        "  # for idx, price in enumerate(prices):\n",
        "  #  if price < min:\n",
        "  #    min = price\n",
        "  #    min_idx = idx\n",
        "\n",
        "  min_idx = saving.index(min(prices))  # .index()로 인덱스를 알아낼 수 있음\n",
        "  min_year = years[min_idx]\n",
        "  min_month = months[min_idx]\n",
        "\n",
        "  return total, min_year, min_month\n",
        "\n",
        "saveMoney_minYM(saving, year, month)"
      ],
      "metadata": {
        "colab": {
          "base_uri": "https://localhost:8080/"
        },
        "id": "-YPd2NdclTqM",
        "outputId": "66140bf2-9e05-49f4-b5e2-1bf4bf6a5192"
      },
      "execution_count": 43,
      "outputs": [
        {
          "output_type": "execute_result",
          "data": {
            "text/plain": [
              "(368, 2024, 12)"
            ]
          },
          "metadata": {},
          "execution_count": 43
        }
      ]
    },
    {
      "cell_type": "markdown",
      "source": [
        "# 2차원 배열 연습"
      ],
      "metadata": {
        "id": "N8HdM24vmlub"
      }
    },
    {
      "cell_type": "markdown",
      "source": [
        "### 문제5\n",
        "2차원 리스트로 구성된 구구단 표를 반환하는 함수를 작성하시오.\n",
        "\n",
        "\n",
        "이 함수에서, 2차원 리스트의 행은 1부터 9까지의 단을, 열은 각 단의 1부터 9까지의 곱셈 결과를 저장하도록 하시오."
      ],
      "metadata": {
        "id": "-g2lbv2yn7tG"
      }
    },
    {
      "cell_type": "code",
      "source": [
        "def gugudan():\n",
        "  gugudan = []\n",
        "  for x in range(1, 10):\n",
        "    row = []\n",
        "    for y in range(1, 10):\n",
        "      row.append(x * y)\n",
        "    gugudan.append(row)\n",
        "  return gugudan\n",
        "\n",
        "gugudan()"
      ],
      "metadata": {
        "colab": {
          "base_uri": "https://localhost:8080/"
        },
        "id": "kYurFXmTljJU",
        "outputId": "532835d4-f26d-4ce8-d8a0-713ad6889c5f"
      },
      "execution_count": 46,
      "outputs": [
        {
          "output_type": "execute_result",
          "data": {
            "text/plain": [
              "[[1, 2, 3, 4, 5, 6, 7, 8, 9],\n",
              " [2, 4, 6, 8, 10, 12, 14, 16, 18],\n",
              " [3, 6, 9, 12, 15, 18, 21, 24, 27],\n",
              " [4, 8, 12, 16, 20, 24, 28, 32, 36],\n",
              " [5, 10, 15, 20, 25, 30, 35, 40, 45],\n",
              " [6, 12, 18, 24, 30, 36, 42, 48, 54],\n",
              " [7, 14, 21, 28, 35, 42, 49, 56, 63],\n",
              " [8, 16, 24, 32, 40, 48, 56, 64, 72],\n",
              " [9, 18, 27, 36, 45, 54, 63, 72, 81]]"
            ]
          },
          "metadata": {},
          "execution_count": 46
        }
      ]
    },
    {
      "cell_type": "markdown",
      "source": [
        "# 실습"
      ],
      "metadata": {
        "id": "eN4g1H65pcEC"
      }
    },
    {
      "cell_type": "markdown",
      "source": [
        "### 문제1\n",
        "사용자가 한 달 동안 먹은 음식 이름을 리스트로 입력받아, 중복된 음식의 개수를 계산하여 반환하는 함수를 작성하시오. (for, 딕셔너리 활용)\n",
        "\n",
        "\n",
        "예를 들어, \"피자\"를 여러 번 먹은 경우 그 횟수를 세어 출력하시오."
      ],
      "metadata": {
        "id": "Jb1tNnnCpmtF"
      }
    },
    {
      "cell_type": "code",
      "source": [
        "foods = [\"피자\", \"햄버거\", \"피자\", \"치킨\", \"피자\", \"햄버거\", \"치킨\"]"
      ],
      "metadata": {
        "id": "ihKpY12gqUFo"
      },
      "execution_count": 48,
      "outputs": []
    },
    {
      "cell_type": "code",
      "source": [
        "def count_food(food_list):\n",
        "  food_dict = {food:food_list.count(food) for food in food_list}\n",
        "  return food_dict\n",
        "\n",
        "count_food(foods)"
      ],
      "metadata": {
        "colab": {
          "base_uri": "https://localhost:8080/"
        },
        "id": "EKt3E-GyoRW3",
        "outputId": "708b6501-fe2c-42ff-ebc0-336b014a18fd"
      },
      "execution_count": 49,
      "outputs": [
        {
          "output_type": "execute_result",
          "data": {
            "text/plain": [
              "{'피자': 3, '햄버거': 2, '치킨': 2}"
            ]
          },
          "metadata": {},
          "execution_count": 49
        }
      ]
    },
    {
      "cell_type": "markdown",
      "source": [
        "### 문제2\n",
        "어떤 사람이 4주 동안 운동한 시간이 일별로 배열에 저장되어 있다. (총 28일).\n",
        "\n",
        "\n",
        "매 주차의 평균 운동 시간을 계산하여 총 4개의 값을 반환하는 함수를 작성하시오."
      ],
      "metadata": {
        "id": "hnClLnmOqtvz"
      }
    },
    {
      "cell_type": "code",
      "source": [
        "workout_time = [1, 2, 1.5, 3, 0.4, 0, 0.6,\n",
        "                0.5, 1, 0.5, 2, 0, 1, 1.5,\n",
        "                1.5, 1, 0.5, 2.5, 0.1, 0, 1,\n",
        "                2, 2, 1.0, 2, 0.5, 0, 1.5]"
      ],
      "metadata": {
        "id": "P83zGiBkqqdB"
      },
      "execution_count": 50,
      "outputs": []
    },
    {
      "cell_type": "code",
      "source": [
        "def avgWorkout_per_week(workout_list):\n",
        "  avg = []\n",
        "\n",
        "#  week_time = 0\n",
        "#  for idx, time in enumerate(workout_list):\n",
        "#    week_time += time\n",
        "#    if idx % 7 == 6:  # 한 주의 마지막 날이라면\n",
        "#      avg.append(week_time / 7)\n",
        "#      week_time = 0\n",
        "\n",
        "  for i in range(0, 4):\n",
        "    week = workout_list[7*i : 7*(i+1)]\n",
        "    avg.append(sum(week) / len(week))\n",
        "\n",
        "  return avg\n",
        "\n",
        "avgWorkout_per_week(workout_time)"
      ],
      "metadata": {
        "colab": {
          "base_uri": "https://localhost:8080/"
        },
        "id": "ZzA-vdlkr24U",
        "outputId": "a0ae776d-4813-4195-e9a2-e15bc95a181b"
      },
      "execution_count": 55,
      "outputs": [
        {
          "output_type": "execute_result",
          "data": {
            "text/plain": [
              "[1.2142857142857142,\n",
              " 0.9285714285714286,\n",
              " 0.9428571428571428,\n",
              " 1.2857142857142858]"
            ]
          },
          "metadata": {},
          "execution_count": 55
        }
      ]
    },
    {
      "cell_type": "markdown",
      "source": [
        "### 문제3\n",
        "4개의 천문대에서 5일 동안 관측한 별똥별의 수가 2차원 배열에 저장되어 있다.\n",
        "\n",
        "\n",
        "각 천문대별 총 관측 수, 가장 별똥별을 많이 관측한 날과 그 값을 각각 dictionary로 구성하고, 리스트로 합쳐 반환하는 함수를 작성하시오."
      ],
      "metadata": {
        "id": "hWfWcWnTvFO0"
      }
    },
    {
      "cell_type": "code",
      "source": [
        "observatories = ['천문대 A', '천문대 B', '천문대 C', '천문대 D']\n",
        "observations = [[15, 20, 35, 10, 5],  # 천문대 A\n",
        "                [12, 25, 22, 18, 30], # 천문대 B\n",
        "                [20, 30, 25, 15, 10], # 천문대 C\n",
        "                [5, 10, 20, 35, 25]]  # 천문대 D"
      ],
      "metadata": {
        "id": "Fznt5AjptNKw"
      },
      "execution_count": 58,
      "outputs": []
    },
    {
      "cell_type": "code",
      "source": [
        "def stats_observatories(station, obs):\n",
        "  stats = []\n",
        "  for i in range(4):\n",
        "    dic = {}\n",
        "    dic['name'] = station[i]\n",
        "    dic['total'] = sum(obs[i])\n",
        "    dic['max'] = max(obs[i])\n",
        "    dic['max_date'] = obs[i].index(dic['max']) + 1\n",
        "\n",
        "    stats.append(dic)\n",
        "\n",
        "  return stats\n",
        "\n",
        "stats_observatories(observatories, observations)"
      ],
      "metadata": {
        "colab": {
          "base_uri": "https://localhost:8080/"
        },
        "id": "4yF5oy49wLMU",
        "outputId": "7a38bd66-5c1f-4ff6-df96-ee9dac612785"
      },
      "execution_count": 60,
      "outputs": [
        {
          "output_type": "execute_result",
          "data": {
            "text/plain": [
              "[{'name': '천문대 A', 'total': 85, 'max': 35, 'max_date': 3},\n",
              " {'name': '천문대 B', 'total': 107, 'max': 30, 'max_date': 5},\n",
              " {'name': '천문대 C', 'total': 100, 'max': 30, 'max_date': 2},\n",
              " {'name': '천문대 D', 'total': 95, 'max': 35, 'max_date': 4}]"
            ]
          },
          "metadata": {},
          "execution_count": 60
        }
      ]
    },
    {
      "cell_type": "code",
      "source": [],
      "metadata": {
        "id": "teidJQB1yaTi"
      },
      "execution_count": null,
      "outputs": []
    }
  ]
}