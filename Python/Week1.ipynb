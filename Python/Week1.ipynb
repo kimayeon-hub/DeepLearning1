{
  "nbformat": 4,
  "nbformat_minor": 0,
  "metadata": {
    "colab": {
      "provenance": [],
      "authorship_tag": "ABX9TyNGBw6m4HwSCxRYLbsAXqWq",
      "include_colab_link": true
    },
    "kernelspec": {
      "name": "python3",
      "display_name": "Python 3"
    },
    "language_info": {
      "name": "python"
    }
  },
  "cells": [
    {
      "cell_type": "markdown",
      "metadata": {
        "id": "view-in-github",
        "colab_type": "text"
      },
      "source": [
        "<a href=\"https://colab.research.google.com/github/kimayeon-hub/DeepLearning1/blob/main/Python/Week1.ipynb\" target=\"_parent\"><img src=\"https://colab.research.google.com/assets/colab-badge.svg\" alt=\"Open In Colab\"/></a>"
      ]
    },
    {
      "cell_type": "markdown",
      "source": [
        "# 연산\n",
        "- %: 나머지\n",
        "- //: 몫"
      ],
      "metadata": {
        "id": "UuHAbU7DrhVK"
      }
    },
    {
      "cell_type": "code",
      "execution_count": null,
      "metadata": {
        "colab": {
          "base_uri": "https://localhost:8080/"
        },
        "id": "gDJn5QQbnsji",
        "outputId": "ad427578-d30b-4593-8e0d-95ad9c308e96"
      },
      "outputs": [
        {
          "output_type": "execute_result",
          "data": {
            "text/plain": [
              "3"
            ]
          },
          "metadata": {},
          "execution_count": 4
        }
      ],
      "source": [
        "11//3"
      ]
    },
    {
      "cell_type": "code",
      "source": [
        "8%3"
      ],
      "metadata": {
        "colab": {
          "base_uri": "https://localhost:8080/"
        },
        "id": "MYfscBBQoH1Z",
        "outputId": "aa39c688-b30e-43f3-b0ed-d0416296e59a"
      },
      "execution_count": null,
      "outputs": [
        {
          "output_type": "execute_result",
          "data": {
            "text/plain": [
              "2"
            ]
          },
          "metadata": {},
          "execution_count": 3
        }
      ]
    },
    {
      "cell_type": "markdown",
      "source": [
        "# numpy\n",
        "- numpy를 사용하면 내부적으로 배열로 사용됨"
      ],
      "metadata": {
        "id": "cYx8-Fzao4t9"
      }
    },
    {
      "cell_type": "code",
      "source": [
        "import numpy as np"
      ],
      "metadata": {
        "id": "wmt1fzRjoTkO"
      },
      "execution_count": null,
      "outputs": []
    },
    {
      "cell_type": "code",
      "source": [
        "np.cos(3.14)"
      ],
      "metadata": {
        "colab": {
          "base_uri": "https://localhost:8080/"
        },
        "id": "ZLbo3t0hoh8t",
        "outputId": "964da91f-6aa3-4e4c-a073-788a7a22beb7"
      },
      "execution_count": null,
      "outputs": [
        {
          "output_type": "execute_result",
          "data": {
            "text/plain": [
              "-0.9999987317275395"
            ]
          },
          "metadata": {},
          "execution_count": 6
        }
      ]
    },
    {
      "cell_type": "code",
      "source": [
        "np.cos(np.pi)"
      ],
      "metadata": {
        "colab": {
          "base_uri": "https://localhost:8080/"
        },
        "id": "pxlr_vOxpMAv",
        "outputId": "916a725c-da42-4586-a0fe-89a3e1ae8091"
      },
      "execution_count": null,
      "outputs": [
        {
          "output_type": "execute_result",
          "data": {
            "text/plain": [
              "-1.0"
            ]
          },
          "metadata": {},
          "execution_count": 7
        }
      ]
    },
    {
      "cell_type": "markdown",
      "source": [
        "# 변수\n",
        "- 파이썬에서 변수를 넣는 것과 C에서 변수를 넣는 것은 다름\n",
        "- python: 변수가 일종의 tag로 들어감\n",
        "```python\n",
        "n = 3\n",
        "n = 4\n",
        "# 위의 코드는 n이라는 상자 값이 3에서 4로 바뀐는 것이 아니라 4를 n이라고 부르는 것\n",
        "```\n",
        "- C: 어떤 상자에 값을 넣는 것\n",
        "\n",
        "#### 변수가 중요한 이유\n",
        "- 똑같은 코드의 반복을 줄일 수 있음\n",
        "- 어떤 값을 고칠 때 일괄적으로 한 번에 값을 고칠 수 있음\n",
        "\n",
        "#### 변수 타입\n",
        "- int (4byte)\n",
        "- float\n",
        "- char (1byte)\n",
        "- boolean: True or False"
      ],
      "metadata": {
        "id": "KOKzDHzzpiLt"
      }
    },
    {
      "cell_type": "code",
      "source": [
        "n = 3"
      ],
      "metadata": {
        "id": "TqVlNJZrpX5I"
      },
      "execution_count": null,
      "outputs": []
    },
    {
      "cell_type": "code",
      "source": [
        "v1 = 125 * 13\n",
        "v2 = 356 * 17\n",
        "\n",
        "print(v1 + v2)\n",
        "print(v1 - v2)"
      ],
      "metadata": {
        "colab": {
          "base_uri": "https://localhost:8080/"
        },
        "id": "NoxpynKyqkmg",
        "outputId": "b9d55377-dc20-4ac6-ba60-2210d8e13242"
      },
      "execution_count": null,
      "outputs": [
        {
          "output_type": "stream",
          "name": "stdout",
          "text": [
            "7677\n",
            "-4427\n"
          ]
        }
      ]
    },
    {
      "cell_type": "code",
      "source": [
        "type(v1)"
      ],
      "metadata": {
        "colab": {
          "base_uri": "https://localhost:8080/"
        },
        "id": "7vfuu_G-qrKV",
        "outputId": "51faa6d6-52f9-4f9f-885b-9371672bffe6"
      },
      "execution_count": null,
      "outputs": [
        {
          "output_type": "execute_result",
          "data": {
            "text/plain": [
              "int"
            ]
          },
          "metadata": {},
          "execution_count": 11
        }
      ]
    },
    {
      "cell_type": "code",
      "source": [
        "v1 = 'Hello'\n",
        "type(v1)"
      ],
      "metadata": {
        "colab": {
          "base_uri": "https://localhost:8080/"
        },
        "id": "mtYc85pTrcIB",
        "outputId": "d946b08d-7b1f-4247-ca70-6226fa867ed2"
      },
      "execution_count": null,
      "outputs": [
        {
          "output_type": "execute_result",
          "data": {
            "text/plain": [
              "str"
            ]
          },
          "metadata": {},
          "execution_count": 12
        }
      ]
    },
    {
      "cell_type": "markdown",
      "source": [
        "> v1 변수의 타입이 바뀐 것이 아니라 가리키는 값이 바뀐 것"
      ],
      "metadata": {
        "id": "P4NqEB1csc8y"
      }
    },
    {
      "cell_type": "markdown",
      "source": [
        "# 함수\n",
        "- 입력 값에 대한 값을 출력해 줌\n",
        "- 복잡한 코드를 단순하게 만들어 재사용 가능\n",
        "\n",
        "#### 함수를 사용하는 이유\n",
        "- 반복된 코드를 줄일 수 있음"
      ],
      "metadata": {
        "id": "gapm6vaYstlD"
      }
    },
    {
      "cell_type": "code",
      "source": [
        "print('hi')"
      ],
      "metadata": {
        "colab": {
          "base_uri": "https://localhost:8080/"
        },
        "id": "1R6eidCbsORc",
        "outputId": "758d55ca-bc83-4cdf-f340-3c169af9d079"
      },
      "execution_count": null,
      "outputs": [
        {
          "output_type": "stream",
          "name": "stdout",
          "text": [
            "hi\n"
          ]
        }
      ]
    },
    {
      "cell_type": "code",
      "source": [
        "print('hello')"
      ],
      "metadata": {
        "colab": {
          "base_uri": "https://localhost:8080/"
        },
        "id": "u28YW7KWtSDq",
        "outputId": "81fc6a54-41db-4898-9926-471c422b6d68"
      },
      "execution_count": null,
      "outputs": [
        {
          "output_type": "stream",
          "name": "stdout",
          "text": [
            "hello\n"
          ]
        }
      ]
    },
    {
      "cell_type": "code",
      "source": [
        "s = np.sin(np.pi / 3)\n",
        "s"
      ],
      "metadata": {
        "colab": {
          "base_uri": "https://localhost:8080/"
        },
        "id": "7foCTTevtzEI",
        "outputId": "b9276de7-d9f4-4427-c2bb-3fe32183d433"
      },
      "execution_count": null,
      "outputs": [
        {
          "output_type": "execute_result",
          "data": {
            "text/plain": [
              "0.8660254037844386"
            ]
          },
          "metadata": {},
          "execution_count": 16
        }
      ]
    },
    {
      "cell_type": "markdown",
      "source": [
        "#### 함수의 실행 순서\n",
        "1. np.pi\n",
        "2. np.pi / 3\n",
        "3. np.sin(np.pi / 3)\n",
        "4. s = np.sin(np.pi / 3)"
      ],
      "metadata": {
        "id": "T2fA_5gouBAf"
      }
    },
    {
      "cell_type": "markdown",
      "source": [
        "#### 파라미터가 2개인 함수\n",
        "- 파라미터의 순서를 맞춰서 넣어줘야 함"
      ],
      "metadata": {
        "id": "WV0hwuB6ueZJ"
      }
    },
    {
      "cell_type": "code",
      "source": [
        "s = np.round(3.567, 1)\n",
        "s"
      ],
      "metadata": {
        "colab": {
          "base_uri": "https://localhost:8080/"
        },
        "id": "peTXVG_Ut8Ra",
        "outputId": "f415873a-c976-4245-9909-56c69a139455"
      },
      "execution_count": null,
      "outputs": [
        {
          "output_type": "execute_result",
          "data": {
            "text/plain": [
              "3.6"
            ]
          },
          "metadata": {},
          "execution_count": 18
        }
      ]
    },
    {
      "cell_type": "code",
      "source": [
        "s = np.round(1, 3.567)"
      ],
      "metadata": {
        "colab": {
          "base_uri": "https://localhost:8080/",
          "height": 287
        },
        "id": "mef-_-WVukqT",
        "outputId": "bea49398-4daf-4a31-898b-18265b6ba1c5"
      },
      "execution_count": null,
      "outputs": [
        {
          "output_type": "error",
          "ename": "TypeError",
          "evalue": "'float' object cannot be interpreted as an integer",
          "traceback": [
            "\u001b[0;31m---------------------------------------------------------------------------\u001b[0m",
            "\u001b[0;31mTypeError\u001b[0m                                 Traceback (most recent call last)",
            "\u001b[0;32m<ipython-input-19-391982bb4d93>\u001b[0m in \u001b[0;36m<cell line: 0>\u001b[0;34m()\u001b[0m\n\u001b[0;32m----> 1\u001b[0;31m \u001b[0ms\u001b[0m \u001b[0;34m=\u001b[0m \u001b[0mnp\u001b[0m\u001b[0;34m.\u001b[0m\u001b[0mround\u001b[0m\u001b[0;34m(\u001b[0m\u001b[0;36m1\u001b[0m\u001b[0;34m,\u001b[0m \u001b[0;36m3.567\u001b[0m\u001b[0;34m)\u001b[0m\u001b[0;34m\u001b[0m\u001b[0;34m\u001b[0m\u001b[0m\n\u001b[0m",
            "\u001b[0;32m/usr/local/lib/python3.11/dist-packages/numpy/core/fromnumeric.py\u001b[0m in \u001b[0;36mround\u001b[0;34m(a, decimals, out)\u001b[0m\n\u001b[1;32m   3358\u001b[0m \u001b[0;34m\u001b[0m\u001b[0m\n\u001b[1;32m   3359\u001b[0m     \"\"\"\n\u001b[0;32m-> 3360\u001b[0;31m     \u001b[0;32mreturn\u001b[0m \u001b[0m_wrapfunc\u001b[0m\u001b[0;34m(\u001b[0m\u001b[0ma\u001b[0m\u001b[0;34m,\u001b[0m \u001b[0;34m'round'\u001b[0m\u001b[0;34m,\u001b[0m \u001b[0mdecimals\u001b[0m\u001b[0;34m=\u001b[0m\u001b[0mdecimals\u001b[0m\u001b[0;34m,\u001b[0m \u001b[0mout\u001b[0m\u001b[0;34m=\u001b[0m\u001b[0mout\u001b[0m\u001b[0;34m)\u001b[0m\u001b[0;34m\u001b[0m\u001b[0;34m\u001b[0m\u001b[0m\n\u001b[0m\u001b[1;32m   3361\u001b[0m \u001b[0;34m\u001b[0m\u001b[0m\n\u001b[1;32m   3362\u001b[0m \u001b[0;34m\u001b[0m\u001b[0m\n",
            "\u001b[0;32m/usr/local/lib/python3.11/dist-packages/numpy/core/fromnumeric.py\u001b[0m in \u001b[0;36m_wrapfunc\u001b[0;34m(obj, method, *args, **kwds)\u001b[0m\n\u001b[1;32m     54\u001b[0m     \u001b[0mbound\u001b[0m \u001b[0;34m=\u001b[0m \u001b[0mgetattr\u001b[0m\u001b[0;34m(\u001b[0m\u001b[0mobj\u001b[0m\u001b[0;34m,\u001b[0m \u001b[0mmethod\u001b[0m\u001b[0;34m,\u001b[0m \u001b[0;32mNone\u001b[0m\u001b[0;34m)\u001b[0m\u001b[0;34m\u001b[0m\u001b[0;34m\u001b[0m\u001b[0m\n\u001b[1;32m     55\u001b[0m     \u001b[0;32mif\u001b[0m \u001b[0mbound\u001b[0m \u001b[0;32mis\u001b[0m \u001b[0;32mNone\u001b[0m\u001b[0;34m:\u001b[0m\u001b[0;34m\u001b[0m\u001b[0;34m\u001b[0m\u001b[0m\n\u001b[0;32m---> 56\u001b[0;31m         \u001b[0;32mreturn\u001b[0m \u001b[0m_wrapit\u001b[0m\u001b[0;34m(\u001b[0m\u001b[0mobj\u001b[0m\u001b[0;34m,\u001b[0m \u001b[0mmethod\u001b[0m\u001b[0;34m,\u001b[0m \u001b[0;34m*\u001b[0m\u001b[0margs\u001b[0m\u001b[0;34m,\u001b[0m \u001b[0;34m**\u001b[0m\u001b[0mkwds\u001b[0m\u001b[0;34m)\u001b[0m\u001b[0;34m\u001b[0m\u001b[0;34m\u001b[0m\u001b[0m\n\u001b[0m\u001b[1;32m     57\u001b[0m \u001b[0;34m\u001b[0m\u001b[0m\n\u001b[1;32m     58\u001b[0m     \u001b[0;32mtry\u001b[0m\u001b[0;34m:\u001b[0m\u001b[0;34m\u001b[0m\u001b[0;34m\u001b[0m\u001b[0m\n",
            "\u001b[0;32m/usr/local/lib/python3.11/dist-packages/numpy/core/fromnumeric.py\u001b[0m in \u001b[0;36m_wrapit\u001b[0;34m(obj, method, *args, **kwds)\u001b[0m\n\u001b[1;32m     43\u001b[0m     \u001b[0;32mexcept\u001b[0m \u001b[0mAttributeError\u001b[0m\u001b[0;34m:\u001b[0m\u001b[0;34m\u001b[0m\u001b[0;34m\u001b[0m\u001b[0m\n\u001b[1;32m     44\u001b[0m         \u001b[0mwrap\u001b[0m \u001b[0;34m=\u001b[0m \u001b[0;32mNone\u001b[0m\u001b[0;34m\u001b[0m\u001b[0;34m\u001b[0m\u001b[0m\n\u001b[0;32m---> 45\u001b[0;31m     \u001b[0mresult\u001b[0m \u001b[0;34m=\u001b[0m \u001b[0mgetattr\u001b[0m\u001b[0;34m(\u001b[0m\u001b[0masarray\u001b[0m\u001b[0;34m(\u001b[0m\u001b[0mobj\u001b[0m\u001b[0;34m)\u001b[0m\u001b[0;34m,\u001b[0m \u001b[0mmethod\u001b[0m\u001b[0;34m)\u001b[0m\u001b[0;34m(\u001b[0m\u001b[0;34m*\u001b[0m\u001b[0margs\u001b[0m\u001b[0;34m,\u001b[0m \u001b[0;34m**\u001b[0m\u001b[0mkwds\u001b[0m\u001b[0;34m)\u001b[0m\u001b[0;34m\u001b[0m\u001b[0;34m\u001b[0m\u001b[0m\n\u001b[0m\u001b[1;32m     46\u001b[0m     \u001b[0;32mif\u001b[0m \u001b[0mwrap\u001b[0m\u001b[0;34m:\u001b[0m\u001b[0;34m\u001b[0m\u001b[0;34m\u001b[0m\u001b[0m\n\u001b[1;32m     47\u001b[0m         \u001b[0;32mif\u001b[0m \u001b[0;32mnot\u001b[0m \u001b[0misinstance\u001b[0m\u001b[0;34m(\u001b[0m\u001b[0mresult\u001b[0m\u001b[0;34m,\u001b[0m \u001b[0mmu\u001b[0m\u001b[0;34m.\u001b[0m\u001b[0mndarray\u001b[0m\u001b[0;34m)\u001b[0m\u001b[0;34m:\u001b[0m\u001b[0;34m\u001b[0m\u001b[0;34m\u001b[0m\u001b[0m\n",
            "\u001b[0;31mTypeError\u001b[0m: 'float' object cannot be interpreted as an integer"
          ]
        }
      ]
    },
    {
      "cell_type": "markdown",
      "source": [
        "- 파라미터의 순서를 바꿔서 입력하는 방법"
      ],
      "metadata": {
        "id": "id78wSJLu2LY"
      }
    },
    {
      "cell_type": "code",
      "source": [
        "s = np.round(decimals=1, a=3.567)\n",
        "s"
      ],
      "metadata": {
        "colab": {
          "base_uri": "https://localhost:8080/"
        },
        "id": "EpdPJVzsuwAl",
        "outputId": "1f210017-b2f1-4900-b86a-5c5023535371"
      },
      "execution_count": null,
      "outputs": [
        {
          "output_type": "execute_result",
          "data": {
            "text/plain": [
              "3.6"
            ]
          },
          "metadata": {},
          "execution_count": 21
        }
      ]
    },
    {
      "cell_type": "markdown",
      "source": [
        "# print 함수\n",
        "- print()\n",
        "- print(f'')\n",
        "> 중간중간에 원하는 변수의 값을 출력할 수 있음"
      ],
      "metadata": {
        "id": "1TM-71MJxThs"
      }
    },
    {
      "cell_type": "code",
      "source": [
        "print('Round:', s)"
      ],
      "metadata": {
        "colab": {
          "base_uri": "https://localhost:8080/"
        },
        "id": "FBfe5q9_u1FO",
        "outputId": "f7e2919b-8ecb-4268-dcdd-224d7d233d78"
      },
      "execution_count": null,
      "outputs": [
        {
          "output_type": "stream",
          "name": "stdout",
          "text": [
            "Round: 3.6\n"
          ]
        }
      ]
    },
    {
      "cell_type": "code",
      "source": [
        "print(f'{s = }')"
      ],
      "metadata": {
        "colab": {
          "base_uri": "https://localhost:8080/"
        },
        "id": "dU0_TDvDxRIn",
        "outputId": "efba0c40-5969-4f28-e661-3e27ac09e102"
      },
      "execution_count": null,
      "outputs": [
        {
          "output_type": "stream",
          "name": "stdout",
          "text": [
            "s = 3.6\n"
          ]
        }
      ]
    },
    {
      "cell_type": "code",
      "source": [
        "print(f'{s = :.2f}')"
      ],
      "metadata": {
        "colab": {
          "base_uri": "https://localhost:8080/"
        },
        "id": "0g9Od1uoxZMM",
        "outputId": "0e3442fc-46ca-4480-951e-7967ca0cb508"
      },
      "execution_count": null,
      "outputs": [
        {
          "output_type": "stream",
          "name": "stdout",
          "text": [
            "s = 3.60\n"
          ]
        }
      ]
    },
    {
      "cell_type": "markdown",
      "source": [
        "# 조건문\n",
        "- if\n",
        "- elif\n",
        "- else\n",
        "> 줄을 잘 맞춰줘야 함 <br>\n",
        "> 중첩문이 많지 않도록 주의"
      ],
      "metadata": {
        "id": "NVOCOwlMx0DP"
      }
    },
    {
      "cell_type": "code",
      "source": [
        "if s < 3:\n",
        "  print('small')\n",
        "elif s == 3:\n",
        "  print('3')\n",
        "else:\n",
        "  print('big')"
      ],
      "metadata": {
        "colab": {
          "base_uri": "https://localhost:8080/"
        },
        "id": "6OAQLgxmxrdZ",
        "outputId": "6f465b4c-604d-43d0-f4ac-490666516e1e"
      },
      "execution_count": null,
      "outputs": [
        {
          "output_type": "stream",
          "name": "stdout",
          "text": [
            "big\n"
          ]
        }
      ]
    },
    {
      "cell_type": "markdown",
      "source": [
        "# 고급 데이터 타입\n",
        "- 리스트\n",
        "  - 다양한 타입의 데이터를 넣을 수 있음\n",
        "  - 배열로 구성되어 있지 않기 때문에 가능한 것\n",
        "  - 배열\n",
        "  > 랜덤 접근(엑세스)이 가능한 것 <br>\n",
        "  > 따라서 같은 타입만 넣을 수 있음 <br>\n",
        "  - 리스트\n",
        "  > 랜덤 엑세스 불가능 <br>\n",
        "  > 랜덤 엑세스가 가능해지도록 리스트인데 배열처럼 들어감 <br>\n",
        "  > 그 칸에 가면 해당 변수를 가리키는 주소가 들어 있는 것 <br>\n",
        "  - 리스트: 수정 가능한 객체\n",
        "  ```pyton\n",
        "  a = [3, 4, 5]\n",
        "  b = a\n",
        "  a[2] = 10\n",
        "  print(b[2])    # 출력: 10\n",
        "  ```\n",
        "  > a가 가르키고 있는 [3, 4, 5]라는 객체를 b도 가르키는 것\n",
        "\n",
        "    ```pyton\n",
        "    a = 8\n",
        "    print(b[0])    # 출력: 3\n",
        "    ```\n",
        "    > a는 8을 가르키고, b는 [3, 4, 5]를 가리키고 있음\n",
        "\n",
        "- 튜플\n",
        "  - 튜플: 수정 불가능한 객체\n",
        "  - ( ) 로 생성\n",
        "  > 값이 바뀌는 것을 방지하기 위해서 사용\n",
        "\n",
        "- 딕셔너리\n",
        "  - { } 로 생성\n",
        "  - 내부적으로 hash를 사용함\n",
        "  > 속도면에서 굉장한 장점이 있음\n",
        "  - 리스트와 딕셔너리의 차이점\n",
        "  > 딕셔너리는 순서가 없음 <br>\n",
        "  > 대신, key가 있음"
      ],
      "metadata": {
        "id": "NBD-tAMnyueu"
      }
    },
    {
      "cell_type": "code",
      "source": [
        "vs = [1, 3, 'hi', 8.5]"
      ],
      "metadata": {
        "id": "J_1LcqDfx-9Z"
      },
      "execution_count": null,
      "outputs": []
    },
    {
      "cell_type": "code",
      "source": [
        "point_tupple = (3, 5)\n",
        "point_tupple"
      ],
      "metadata": {
        "colab": {
          "base_uri": "https://localhost:8080/"
        },
        "id": "-1dibxTJy8H2",
        "outputId": "89a5094e-33e4-4ba8-8155-96bc3299ef79"
      },
      "execution_count": null,
      "outputs": [
        {
          "output_type": "execute_result",
          "data": {
            "text/plain": [
              "(3, 5)"
            ]
          },
          "metadata": {},
          "execution_count": 31
        }
      ]
    },
    {
      "cell_type": "code",
      "source": [
        "point_list = [3, 5]\n",
        "point_list"
      ],
      "metadata": {
        "colab": {
          "base_uri": "https://localhost:8080/"
        },
        "id": "GO1D0t3B2PV_",
        "outputId": "3a966ab4-f6f3-4742-e9d4-a45adae70f23"
      },
      "execution_count": null,
      "outputs": [
        {
          "output_type": "execute_result",
          "data": {
            "text/plain": [
              "[3, 5]"
            ]
          },
          "metadata": {},
          "execution_count": 33
        }
      ]
    },
    {
      "cell_type": "code",
      "source": [
        "point_list[1] = 8\n",
        "point_list"
      ],
      "metadata": {
        "colab": {
          "base_uri": "https://localhost:8080/"
        },
        "id": "OGBZP0Hh2UME",
        "outputId": "c8704cf1-85e7-40e3-a329-2e7400267966"
      },
      "execution_count": null,
      "outputs": [
        {
          "output_type": "execute_result",
          "data": {
            "text/plain": [
              "[3, 8]"
            ]
          },
          "metadata": {},
          "execution_count": 34
        }
      ]
    },
    {
      "cell_type": "code",
      "source": [
        "point_tupple[1] = 100"
      ],
      "metadata": {
        "colab": {
          "base_uri": "https://localhost:8080/",
          "height": 141
        },
        "id": "0i71JBR72YzQ",
        "outputId": "962cf8f7-4b23-41da-d1db-f6d51d13e40c"
      },
      "execution_count": null,
      "outputs": [
        {
          "output_type": "error",
          "ename": "TypeError",
          "evalue": "'tuple' object does not support item assignment",
          "traceback": [
            "\u001b[0;31m---------------------------------------------------------------------------\u001b[0m",
            "\u001b[0;31mTypeError\u001b[0m                                 Traceback (most recent call last)",
            "\u001b[0;32m<ipython-input-35-a5e028e7b93d>\u001b[0m in \u001b[0;36m<cell line: 0>\u001b[0;34m()\u001b[0m\n\u001b[0;32m----> 1\u001b[0;31m \u001b[0mpoint_tupple\u001b[0m\u001b[0;34m[\u001b[0m\u001b[0;36m1\u001b[0m\u001b[0;34m]\u001b[0m \u001b[0;34m=\u001b[0m \u001b[0;36m100\u001b[0m\u001b[0;34m\u001b[0m\u001b[0;34m\u001b[0m\u001b[0m\n\u001b[0m",
            "\u001b[0;31mTypeError\u001b[0m: 'tuple' object does not support item assignment"
          ]
        }
      ]
    },
    {
      "cell_type": "code",
      "source": [
        "b1 = {'title': 'Narnia', 'author': 'C.S.Lewis'}\n",
        "b2 = {'title': '난중일기', 'author': '이순신'}"
      ],
      "metadata": {
        "id": "REKFr2cw2bhc"
      },
      "execution_count": null,
      "outputs": []
    },
    {
      "cell_type": "code",
      "source": [
        "b1['title']"
      ],
      "metadata": {
        "colab": {
          "base_uri": "https://localhost:8080/",
          "height": 35
        },
        "id": "YxFVk1ot3r4-",
        "outputId": "f666fcc5-2258-416d-8eb6-781123f1264e"
      },
      "execution_count": null,
      "outputs": [
        {
          "output_type": "execute_result",
          "data": {
            "text/plain": [
              "'Narnia'"
            ],
            "application/vnd.google.colaboratory.intrinsic+json": {
              "type": "string"
            }
          },
          "metadata": {},
          "execution_count": 38
        }
      ]
    },
    {
      "cell_type": "code",
      "source": [
        "b2['title']"
      ],
      "metadata": {
        "colab": {
          "base_uri": "https://localhost:8080/",
          "height": 35
        },
        "id": "8qiA_ZhI3tdb",
        "outputId": "22f818aa-7f36-4c4d-f0b1-e1af94fa1a61"
      },
      "execution_count": null,
      "outputs": [
        {
          "output_type": "execute_result",
          "data": {
            "text/plain": [
              "'난중일기'"
            ],
            "application/vnd.google.colaboratory.intrinsic+json": {
              "type": "string"
            }
          },
          "metadata": {},
          "execution_count": 42
        }
      ]
    },
    {
      "cell_type": "markdown",
      "source": [
        "책들이 여러 권 붙어 있는 형태로도 만들 수 있음"
      ],
      "metadata": {
        "id": "eTy06DJV4dHi"
      }
    },
    {
      "cell_type": "code",
      "source": [
        "books = [b1, b2]\n",
        "books"
      ],
      "metadata": {
        "colab": {
          "base_uri": "https://localhost:8080/"
        },
        "id": "NrhnmhLb3yMT",
        "outputId": "ac55520e-6bbb-4b27-e922-b42d6cf0485e"
      },
      "execution_count": null,
      "outputs": [
        {
          "output_type": "execute_result",
          "data": {
            "text/plain": [
              "[{'title': 'Narnia', 'author': 'C.S.Lewis'},\n",
              " {'title': '난중일기', 'author': '이순신'}]"
            ]
          },
          "metadata": {},
          "execution_count": 43
        }
      ]
    },
    {
      "cell_type": "code",
      "source": [
        "dict_eng = {'Korea': '한국', 'Thank you': '감사합니다'}"
      ],
      "metadata": {
        "id": "pbPVzspC4aYm"
      },
      "execution_count": null,
      "outputs": []
    },
    {
      "cell_type": "code",
      "source": [
        "dict_eng['Korea']"
      ],
      "metadata": {
        "colab": {
          "base_uri": "https://localhost:8080/",
          "height": 35
        },
        "id": "0GKHQV5s4sRX",
        "outputId": "89f77011-8c10-46ec-cfe5-443dd39bf5eb"
      },
      "execution_count": null,
      "outputs": [
        {
          "output_type": "execute_result",
          "data": {
            "text/plain": [
              "'한국'"
            ],
            "application/vnd.google.colaboratory.intrinsic+json": {
              "type": "string"
            }
          },
          "metadata": {},
          "execution_count": 45
        }
      ]
    },
    {
      "cell_type": "markdown",
      "source": [
        "# 반복문\n",
        "> 반복문을 사용하면, 코드를 간단하게 짤 수 있음\n",
        "- while\n",
        "- for\n",
        "  - range 사용\n",
        "  - 리스트 값 사용\n",
        "  - enumerate: 인덱스와 데이터가 나옴"
      ],
      "metadata": {
        "id": "843xM1cG4-tI"
      }
    },
    {
      "cell_type": "code",
      "source": [
        "a = 0\n",
        "while a < 10:\n",
        "  print(a)\n",
        "  a += 1"
      ],
      "metadata": {
        "colab": {
          "base_uri": "https://localhost:8080/"
        },
        "id": "2tvR_Zya4uFI",
        "outputId": "86bfd186-cc0e-49e4-adb9-3ee50c6cad55"
      },
      "execution_count": null,
      "outputs": [
        {
          "output_type": "stream",
          "name": "stdout",
          "text": [
            "0\n",
            "1\n",
            "2\n",
            "3\n",
            "4\n",
            "5\n",
            "6\n",
            "7\n",
            "8\n",
            "9\n"
          ]
        }
      ]
    },
    {
      "cell_type": "code",
      "source": [
        "for a in range(10):\n",
        "  print(a)"
      ],
      "metadata": {
        "colab": {
          "base_uri": "https://localhost:8080/"
        },
        "id": "LaD_iJxQ5HJ0",
        "outputId": "788ed3f8-c9d3-4490-8ef6-b844fbeafbbd"
      },
      "execution_count": null,
      "outputs": [
        {
          "output_type": "stream",
          "name": "stdout",
          "text": [
            "0\n",
            "1\n",
            "2\n",
            "3\n",
            "4\n",
            "5\n",
            "6\n",
            "7\n",
            "8\n",
            "9\n"
          ]
        }
      ]
    },
    {
      "cell_type": "code",
      "source": [
        "a = range(10)\n",
        "a"
      ],
      "metadata": {
        "colab": {
          "base_uri": "https://localhost:8080/"
        },
        "id": "mWpAAryc5TzX",
        "outputId": "cc9ab172-e7f5-41b3-f5fa-f2890a0f939b"
      },
      "execution_count": null,
      "outputs": [
        {
          "output_type": "execute_result",
          "data": {
            "text/plain": [
              "range(0, 10)"
            ]
          },
          "metadata": {},
          "execution_count": 50
        }
      ]
    },
    {
      "cell_type": "code",
      "source": [
        "list(a)"
      ],
      "metadata": {
        "colab": {
          "base_uri": "https://localhost:8080/"
        },
        "id": "-_SjgFti5Zwv",
        "outputId": "3d47f0a9-d61a-4ceb-c16e-24aba82c2e1e"
      },
      "execution_count": null,
      "outputs": [
        {
          "output_type": "execute_result",
          "data": {
            "text/plain": [
              "[0, 1, 2, 3, 4, 5, 6, 7, 8, 9]"
            ]
          },
          "metadata": {},
          "execution_count": 51
        }
      ]
    },
    {
      "cell_type": "code",
      "source": [
        "for a in [0,1,2,3,4,5,6,7,8,9]:\n",
        "  print(a)"
      ],
      "metadata": {
        "colab": {
          "base_uri": "https://localhost:8080/"
        },
        "id": "o6rvoC155ciH",
        "outputId": "48feb20c-3a63-4f13-8c91-3473767f061c"
      },
      "execution_count": null,
      "outputs": [
        {
          "output_type": "stream",
          "name": "stdout",
          "text": [
            "0\n",
            "1\n",
            "2\n",
            "3\n",
            "4\n",
            "5\n",
            "6\n",
            "7\n",
            "8\n",
            "9\n"
          ]
        }
      ]
    },
    {
      "cell_type": "code",
      "source": [
        "data = [3, 4, 'Hello', 4.6]"
      ],
      "metadata": {
        "id": "tEfS2RUS5hBg"
      },
      "execution_count": null,
      "outputs": []
    },
    {
      "cell_type": "code",
      "source": [
        "for d in data:\n",
        "  print(d)"
      ],
      "metadata": {
        "colab": {
          "base_uri": "https://localhost:8080/"
        },
        "id": "yfGVj7885ze1",
        "outputId": "1ad2366d-ba59-4af2-f20e-360dc4f64a2d"
      },
      "execution_count": null,
      "outputs": [
        {
          "output_type": "stream",
          "name": "stdout",
          "text": [
            "3\n",
            "4\n",
            "Hello\n",
            "4.6\n"
          ]
        }
      ]
    },
    {
      "cell_type": "code",
      "source": [
        "for idx in range(len(data)):\n",
        "  print(data[idx])"
      ],
      "metadata": {
        "colab": {
          "base_uri": "https://localhost:8080/"
        },
        "id": "2pSFERzF50-n",
        "outputId": "d5bd6035-c410-43fa-bb3d-b1a054b528f6"
      },
      "execution_count": null,
      "outputs": [
        {
          "output_type": "stream",
          "name": "stdout",
          "text": [
            "3\n",
            "4\n",
            "Hello\n",
            "4.6\n"
          ]
        }
      ]
    },
    {
      "cell_type": "code",
      "source": [
        "for idx, d in enumerate(data):\n",
        "  print(idx, d)"
      ],
      "metadata": {
        "colab": {
          "base_uri": "https://localhost:8080/"
        },
        "id": "TSFZssoR55hz",
        "outputId": "8c7b0e18-1f9d-427d-ebba-bb7eb3bc644d"
      },
      "execution_count": null,
      "outputs": [
        {
          "output_type": "stream",
          "name": "stdout",
          "text": [
            "0 3\n",
            "1 4\n",
            "2 Hello\n",
            "3 4.6\n"
          ]
        }
      ]
    },
    {
      "cell_type": "markdown",
      "source": [
        "# 연습\n",
        "- 100과 200 사이의 자연수 중, 제곱근이 자연수인 수를 모두 출력하는 코드를 작성하시오"
      ],
      "metadata": {
        "id": "r9s8uBlC7NQT"
      }
    },
    {
      "cell_type": "code",
      "source": [
        "import numpy as np"
      ],
      "metadata": {
        "id": "OMRnwUbS6VXi"
      },
      "execution_count": null,
      "outputs": []
    },
    {
      "cell_type": "code",
      "source": [
        "for i in range(100,201):\n",
        "  sq = np.sqrt(i)\n",
        "  if sq == int(sq):\n",
        "    print(sq)"
      ],
      "metadata": {
        "colab": {
          "base_uri": "https://localhost:8080/"
        },
        "id": "hU0iro_a7RO2",
        "outputId": "9225e44a-c563-46ac-bde2-c15261a70c2a"
      },
      "execution_count": null,
      "outputs": [
        {
          "output_type": "stream",
          "name": "stdout",
          "text": [
            "10.0\n",
            "11.0\n",
            "12.0\n",
            "13.0\n",
            "14.0\n"
          ]
        }
      ]
    },
    {
      "cell_type": "markdown",
      "source": [
        "- 100 이하의 자연수 중 3으로 나누어 떨어지지 않는 수를 모두 출력하는 코드를 작성하라"
      ],
      "metadata": {
        "id": "f9COBbeg70B4"
      }
    },
    {
      "cell_type": "code",
      "source": [
        "for i in range(1,101):\n",
        "  if i % 3 != 0:\n",
        "    print(i)"
      ],
      "metadata": {
        "colab": {
          "base_uri": "https://localhost:8080/"
        },
        "id": "oONRXzhk7g3O",
        "outputId": "6a5fe63f-d068-4357-88a5-952b8b90a31e"
      },
      "execution_count": null,
      "outputs": [
        {
          "output_type": "stream",
          "name": "stdout",
          "text": [
            "1\n",
            "2\n",
            "4\n",
            "5\n",
            "7\n",
            "8\n",
            "10\n",
            "11\n",
            "13\n",
            "14\n",
            "16\n",
            "17\n",
            "19\n",
            "20\n",
            "22\n",
            "23\n",
            "25\n",
            "26\n",
            "28\n",
            "29\n",
            "31\n",
            "32\n",
            "34\n",
            "35\n",
            "37\n",
            "38\n",
            "40\n",
            "41\n",
            "43\n",
            "44\n",
            "46\n",
            "47\n",
            "49\n",
            "50\n",
            "52\n",
            "53\n",
            "55\n",
            "56\n",
            "58\n",
            "59\n",
            "61\n",
            "62\n",
            "64\n",
            "65\n",
            "67\n",
            "68\n",
            "70\n",
            "71\n",
            "73\n",
            "74\n",
            "76\n",
            "77\n",
            "79\n",
            "80\n",
            "82\n",
            "83\n",
            "85\n",
            "86\n",
            "88\n",
            "89\n",
            "91\n",
            "92\n",
            "94\n",
            "95\n",
            "97\n",
            "98\n",
            "100\n"
          ]
        }
      ]
    },
    {
      "cell_type": "code",
      "source": [
        "i"
      ],
      "metadata": {
        "id": "G6Saci6D77i1"
      },
      "execution_count": null,
      "outputs": []
    }
  ]
}