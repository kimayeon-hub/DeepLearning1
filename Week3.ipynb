{
  "nbformat": 4,
  "nbformat_minor": 0,
  "metadata": {
    "colab": {
      "provenance": [],
      "authorship_tag": "ABX9TyON9eYkLiH+0NM9S/QwKqzw",
      "include_colab_link": true
    },
    "kernelspec": {
      "name": "python3",
      "display_name": "Python 3"
    },
    "language_info": {
      "name": "python"
    }
  },
  "cells": [
    {
      "cell_type": "markdown",
      "metadata": {
        "id": "view-in-github",
        "colab_type": "text"
      },
      "source": [
        "<a href=\"https://colab.research.google.com/github/kimayeon-hub/DeepLearning1/blob/main/Python/Week3.ipynb\" target=\"_parent\"><img src=\"https://colab.research.google.com/assets/colab-badge.svg\" alt=\"Open In Colab\"/></a>"
      ]
    },
    {
      "cell_type": "markdown",
      "source": [
        "# Numpy 배열\n",
        "\n",
        "- array([]) 사용\n",
        "- zeros(()) 사용: 0으로 초기화 시켜서 만들어 줌\n",
        "  - 첫 번째 매개변수: 1차원\n",
        "  - 두 번째 매개변수: 2차원\n",
        "  - ...\n",
        "  \n",
        "    > 이걸 공간상에서 이해하려고 하면 힘듦 <br>\n",
        "\n",
        "    > n[몸무게, 키, 성적, 거주지] => n[10, 15, 5, 4] <br>\n",
        "    > 몸무게 값: 10개, 키 값: 15개, 성적 값: 5개, 거주지 값: 4개인 배열이 만들어진 것\n",
        "\n",
        "- ones(()): 1로 초기화 시켜서 만들어 줌\n",
        "\n",
        "> 4차원까지는 만들어서 사용함 <br>\n",
        "> 그 이상은 이해하기 어려움"
      ],
      "metadata": {
        "id": "73oGI95Zom-W"
      }
    },
    {
      "cell_type": "code",
      "execution_count": 1,
      "metadata": {
        "id": "ZsY8ps0Lj77R"
      },
      "outputs": [],
      "source": [
        "import numpy as np"
      ]
    },
    {
      "cell_type": "code",
      "source": [
        "# n이라는 화살표가 변수 np.array([])를 가리킨다고 생각하면 됨\n",
        "n = np.array([[3, 4, 1, 2],\n",
        "             [8, 2, 4, 9]])\n",
        "n"
      ],
      "metadata": {
        "colab": {
          "base_uri": "https://localhost:8080/"
        },
        "id": "ZA3hLQezomPy",
        "outputId": "41815a63-8769-4df0-9a23-1975c8cfed96"
      },
      "execution_count": 4,
      "outputs": [
        {
          "output_type": "execute_result",
          "data": {
            "text/plain": [
              "array([[3, 4, 1, 2],\n",
              "       [8, 2, 4, 9]])"
            ]
          },
          "metadata": {},
          "execution_count": 4
        }
      ]
    },
    {
      "cell_type": "code",
      "source": [
        "n = np.zeros((3, 5))  # 2차원 배열이 만들어진 것\n",
        "n"
      ],
      "metadata": {
        "colab": {
          "base_uri": "https://localhost:8080/"
        },
        "id": "UfQeXDaCr6a-",
        "outputId": "f3c6c50d-7954-4e78-e187-fd0a4ab110ab"
      },
      "execution_count": 6,
      "outputs": [
        {
          "output_type": "execute_result",
          "data": {
            "text/plain": [
              "array([[0., 0., 0., 0., 0.],\n",
              "       [0., 0., 0., 0., 0.],\n",
              "       [0., 0., 0., 0., 0.]])"
            ]
          },
          "metadata": {},
          "execution_count": 6
        }
      ]
    },
    {
      "cell_type": "code",
      "source": [
        "n = np.zeros((3, 5, 2)) # 3차원 배열이 만들어진 것\n",
        "n"
      ],
      "metadata": {
        "colab": {
          "base_uri": "https://localhost:8080/"
        },
        "id": "pbz9qdXHs1LD",
        "outputId": "d706c722-7652-4aa2-d57b-ac188dc88bae"
      },
      "execution_count": 7,
      "outputs": [
        {
          "output_type": "execute_result",
          "data": {
            "text/plain": [
              "array([[[0., 0.],\n",
              "        [0., 0.],\n",
              "        [0., 0.],\n",
              "        [0., 0.],\n",
              "        [0., 0.]],\n",
              "\n",
              "       [[0., 0.],\n",
              "        [0., 0.],\n",
              "        [0., 0.],\n",
              "        [0., 0.],\n",
              "        [0., 0.]],\n",
              "\n",
              "       [[0., 0.],\n",
              "        [0., 0.],\n",
              "        [0., 0.],\n",
              "        [0., 0.],\n",
              "        [0., 0.]]])"
            ]
          },
          "metadata": {},
          "execution_count": 7
        }
      ]
    },
    {
      "cell_type": "code",
      "source": [
        "n = np.ones((3, 5))\n",
        "n"
      ],
      "metadata": {
        "colab": {
          "base_uri": "https://localhost:8080/"
        },
        "id": "-Af9iQHtualT",
        "outputId": "b24eb928-6440-49f8-e9e9-7ca844c96e8f"
      },
      "execution_count": 8,
      "outputs": [
        {
          "output_type": "execute_result",
          "data": {
            "text/plain": [
              "array([[1., 1., 1., 1., 1.],\n",
              "       [1., 1., 1., 1., 1.],\n",
              "       [1., 1., 1., 1., 1.]])"
            ]
          },
          "metadata": {},
          "execution_count": 8
        }
      ]
    },
    {
      "cell_type": "markdown",
      "source": [
        "# numpy random\n",
        "- random.rand()\n",
        "  - 배열처럼 인덱스를 사용해서 특정 위치의 값을 변경할 수 있음"
      ],
      "metadata": {
        "id": "-kEmYQrVu3v1"
      }
    },
    {
      "cell_type": "code",
      "source": [
        "n = np.random.rand(3, 5)\n",
        "n"
      ],
      "metadata": {
        "colab": {
          "base_uri": "https://localhost:8080/"
        },
        "id": "CepfPWLZvAx1",
        "outputId": "19ce595b-ca14-4d30-a9b5-922c919904fc"
      },
      "execution_count": 9,
      "outputs": [
        {
          "output_type": "execute_result",
          "data": {
            "text/plain": [
              "array([[0.78537508, 0.43745681, 0.86566209, 0.60314061, 0.14159756],\n",
              "       [0.61122571, 0.79500884, 0.28891555, 0.59906063, 0.30515369],\n",
              "       [0.26032428, 0.77847019, 0.52035949, 0.6316532 , 0.78667177]])"
            ]
          },
          "metadata": {},
          "execution_count": 9
        }
      ]
    },
    {
      "cell_type": "code",
      "source": [
        "n = np.random.rand(3, 5)\n",
        "n[0, 0] = 0\n",
        "n"
      ],
      "metadata": {
        "colab": {
          "base_uri": "https://localhost:8080/"
        },
        "id": "VB23_9nru-y8",
        "outputId": "ec842b90-229d-4b6b-8e6b-e0e83503335d"
      },
      "execution_count": 10,
      "outputs": [
        {
          "output_type": "execute_result",
          "data": {
            "text/plain": [
              "array([[0.        , 0.50038235, 0.11665831, 0.13824149, 0.01298664],\n",
              "       [0.68520156, 0.12282253, 0.6169001 , 0.93089441, 0.57932456],\n",
              "       [0.9382301 , 0.54658351, 0.03231708, 0.13145971, 0.66281967]])"
            ]
          },
          "metadata": {},
          "execution_count": 10
        }
      ]
    },
    {
      "cell_type": "markdown",
      "source": [
        "### 실제 사용법\n",
        "boolean 배열을 만들어서 True인 부분의 값을 0으로 변경하기"
      ],
      "metadata": {
        "id": "bIBnTCMTvjC_"
      }
    },
    {
      "cell_type": "code",
      "source": [
        "import numpy as np\n",
        "\n",
        "n = np.array([[3, 4, 1, 2], [8, 2, 4, 9], [2, 1, 8, 7]])\n",
        "b = np.array([[True, False, True, False],\n",
        "              [True, False, True, False],\n",
        "              [True, False, True, False]])\n",
        "n[b] = 0  # b가 만족하는 것을 다 0으로 바꿔라\n",
        "n"
      ],
      "metadata": {
        "colab": {
          "base_uri": "https://localhost:8080/"
        },
        "id": "5RN54VbYvWoZ",
        "outputId": "1b905464-0e88-4ead-997a-6240db134575"
      },
      "execution_count": 12,
      "outputs": [
        {
          "output_type": "execute_result",
          "data": {
            "text/plain": [
              "array([[0, 4, 0, 2],\n",
              "       [0, 2, 0, 9],\n",
              "       [0, 1, 0, 7]])"
            ]
          },
          "metadata": {},
          "execution_count": 12
        }
      ]
    },
    {
      "cell_type": "code",
      "source": [
        "n = np.array([[3, 4, 1, 2], [8, 2, 4, 9], [2, 1, 8, 7]])\n",
        "b = n < 5 # 5보다 작은 경우는 True가 되고, 5보다 큰 경우는 False가 됨\n",
        "\n",
        "n[b] = 0  # 5보다 작은 값은 다 0으로 바꿔라\n",
        "n"
      ],
      "metadata": {
        "colab": {
          "base_uri": "https://localhost:8080/"
        },
        "id": "lk2NIWBSv1C5",
        "outputId": "8aef0bc5-4a4c-44a2-d720-bf762353ce07"
      },
      "execution_count": 13,
      "outputs": [
        {
          "output_type": "execute_result",
          "data": {
            "text/plain": [
              "array([[0, 0, 0, 0],\n",
              "       [8, 0, 0, 9],\n",
              "       [0, 0, 8, 7]])"
            ]
          },
          "metadata": {},
          "execution_count": 13
        }
      ]
    },
    {
      "cell_type": "code",
      "source": [
        "n = np.array([[3, 4, 1, 2], [8, 2, 4, 9], [2, 1, 8, 7]])\n",
        "\n",
        "n[n > 5] = 5  # 5보다 큰은 값은 다 5로 바꿔라\n",
        "n"
      ],
      "metadata": {
        "colab": {
          "base_uri": "https://localhost:8080/"
        },
        "id": "2U23CMw9xEo0",
        "outputId": "80394b4d-d373-48c7-e338-e262b0ced966"
      },
      "execution_count": 16,
      "outputs": [
        {
          "output_type": "execute_result",
          "data": {
            "text/plain": [
              "array([[3, 4, 1, 2],\n",
              "       [5, 2, 4, 5],\n",
              "       [2, 1, 5, 5]])"
            ]
          },
          "metadata": {},
          "execution_count": 16
        }
      ]
    },
    {
      "cell_type": "markdown",
      "source": [
        "# n.shape\n",
        "- 어떤 배열을 받았을 때, 그 배열의 크기를 모르겠을 때 사용\n",
        "\n"
      ],
      "metadata": {
        "id": "fU2EnC3-xfbT"
      }
    },
    {
      "cell_type": "code",
      "source": [
        "n = np.array([[3, 4, 1, 2], [8, 2, 4, 9], [2, 1, 8, 7]])\n",
        "n.shape"
      ],
      "metadata": {
        "colab": {
          "base_uri": "https://localhost:8080/"
        },
        "id": "MSYJ6HOyxUDs",
        "outputId": "2bb291a5-aedb-4335-cc4c-1af03512511c"
      },
      "execution_count": 17,
      "outputs": [
        {
          "output_type": "execute_result",
          "data": {
            "text/plain": [
              "(3, 4)"
            ]
          },
          "metadata": {},
          "execution_count": 17
        }
      ]
    },
    {
      "cell_type": "code",
      "source": [
        "n = np.zeros((2, 4, 3, 5))\n",
        "n.shape"
      ],
      "metadata": {
        "colab": {
          "base_uri": "https://localhost:8080/"
        },
        "id": "h8q2SmVwxq-a",
        "outputId": "617d2c51-c068-4e20-db92-a55d565c822b"
      },
      "execution_count": 19,
      "outputs": [
        {
          "output_type": "execute_result",
          "data": {
            "text/plain": [
              "(2, 4, 3, 5)"
            ]
          },
          "metadata": {},
          "execution_count": 19
        }
      ]
    },
    {
      "cell_type": "code",
      "source": [
        "n = np.zeros((2, 4, 3, 5))\n",
        "n.shape[1]"
      ],
      "metadata": {
        "colab": {
          "base_uri": "https://localhost:8080/"
        },
        "id": "CguIt4jdxyzq",
        "outputId": "900d4905-15f4-416f-ef4c-df8ecb5861fb"
      },
      "execution_count": 20,
      "outputs": [
        {
          "output_type": "execute_result",
          "data": {
            "text/plain": [
              "4"
            ]
          },
          "metadata": {},
          "execution_count": 20
        }
      ]
    },
    {
      "cell_type": "code",
      "source": [
        "n = np.zeros(10)\n",
        "print(n.shape, n)"
      ],
      "metadata": {
        "colab": {
          "base_uri": "https://localhost:8080/"
        },
        "id": "KQv4-Z_cx9my",
        "outputId": "cfef4367-a8ce-43b8-a9db-62f4c1e8ffdb"
      },
      "execution_count": 22,
      "outputs": [
        {
          "output_type": "stream",
          "name": "stdout",
          "text": [
            "(10,) [0. 0. 0. 0. 0. 0. 0. 0. 0. 0.]\n"
          ]
        }
      ]
    },
    {
      "cell_type": "markdown",
      "source": [
        "### 실제 사용법\n",
        "- 배열을 넘겨 줄 때, 1차원 배열을 2차원으로 바꿔서 보내야 할 떄가 있음 => 차원을 다룰 줄 알아야 함\n",
        "\n",
        "> zeros(10)과 zeros((10, 1))은 사실상 같은 것임"
      ],
      "metadata": {
        "id": "0ThUMf3EyIYz"
      }
    },
    {
      "cell_type": "code",
      "source": [
        "n = np.zeros(10)\n",
        "n[3, 0] # 2차원은 당연히 없는 것이므로 엑세스가 안 되는 것"
      ],
      "metadata": {
        "colab": {
          "base_uri": "https://localhost:8080/",
          "height": 158
        },
        "id": "nGNoUec1yCWQ",
        "outputId": "82672e84-cbc5-4a59-98ac-31b2eee81982"
      },
      "execution_count": 23,
      "outputs": [
        {
          "output_type": "error",
          "ename": "IndexError",
          "evalue": "too many indices for array: array is 1-dimensional, but 2 were indexed",
          "traceback": [
            "\u001b[0;31m---------------------------------------------------------------------------\u001b[0m",
            "\u001b[0;31mIndexError\u001b[0m                                Traceback (most recent call last)",
            "\u001b[0;32m<ipython-input-23-ac54e42cb434>\u001b[0m in \u001b[0;36m<cell line: 0>\u001b[0;34m()\u001b[0m\n\u001b[1;32m      1\u001b[0m \u001b[0mn\u001b[0m \u001b[0;34m=\u001b[0m \u001b[0mnp\u001b[0m\u001b[0;34m.\u001b[0m\u001b[0mzeros\u001b[0m\u001b[0;34m(\u001b[0m\u001b[0;36m10\u001b[0m\u001b[0;34m)\u001b[0m\u001b[0;34m\u001b[0m\u001b[0;34m\u001b[0m\u001b[0m\n\u001b[0;32m----> 2\u001b[0;31m \u001b[0mn\u001b[0m\u001b[0;34m[\u001b[0m\u001b[0;36m3\u001b[0m\u001b[0;34m,\u001b[0m \u001b[0;36m0\u001b[0m\u001b[0;34m]\u001b[0m\u001b[0;34m\u001b[0m\u001b[0;34m\u001b[0m\u001b[0m\n\u001b[0m",
            "\u001b[0;31mIndexError\u001b[0m: too many indices for array: array is 1-dimensional, but 2 were indexed"
          ]
        }
      ]
    },
    {
      "cell_type": "code",
      "source": [
        "n = np.zeros((10, 1))\n",
        "n[3, 0]"
      ],
      "metadata": {
        "colab": {
          "base_uri": "https://localhost:8080/"
        },
        "id": "4hfqYAsfyrxv",
        "outputId": "0b08a749-7aff-4767-8351-d63b0752458d"
      },
      "execution_count": 24,
      "outputs": [
        {
          "output_type": "execute_result",
          "data": {
            "text/plain": [
              "0.0"
            ]
          },
          "metadata": {},
          "execution_count": 24
        }
      ]
    },
    {
      "cell_type": "markdown",
      "source": [
        "# np.reshape(배열, (바꿀 차원))"
      ],
      "metadata": {
        "id": "KaWXqODv3JH2"
      }
    },
    {
      "cell_type": "code",
      "source": [
        "n = [1, 2, 3, 4, 5, 6, 7, 8]\n",
        "np.reshape(n, (2, 4))"
      ],
      "metadata": {
        "colab": {
          "base_uri": "https://localhost:8080/"
        },
        "id": "ZWg89_Yf3Nq3",
        "outputId": "1b83c5cc-ea8e-469e-e85d-7c02ed5712af"
      },
      "execution_count": 40,
      "outputs": [
        {
          "output_type": "execute_result",
          "data": {
            "text/plain": [
              "array([[1, 2, 3, 4],\n",
              "       [5, 6, 7, 8]])"
            ]
          },
          "metadata": {},
          "execution_count": 40
        }
      ]
    },
    {
      "cell_type": "markdown",
      "source": [
        "### np.expand_dims()와 비슷하게 사용 가능"
      ],
      "metadata": {
        "id": "pUj8UAHH3rdy"
      }
    },
    {
      "cell_type": "code",
      "source": [
        "k = np.reshape(n, (2, 4, 1))\n",
        "k.shape"
      ],
      "metadata": {
        "colab": {
          "base_uri": "https://localhost:8080/"
        },
        "id": "ikmUFeXa3lZW",
        "outputId": "1b24d4a1-dbc3-4360-f7bb-69f990c0710c"
      },
      "execution_count": 41,
      "outputs": [
        {
          "output_type": "execute_result",
          "data": {
            "text/plain": [
              "(2, 4, 1)"
            ]
          },
          "metadata": {},
          "execution_count": 41
        }
      ]
    },
    {
      "cell_type": "markdown",
      "source": [
        "# np.expand_dims()\n",
        "- 데이터는 똑같은데 차원을 늘릴 떄 사용"
      ],
      "metadata": {
        "id": "4d_uc5JXzJhM"
      }
    },
    {
      "cell_type": "code",
      "source": [
        "n = np.zeros(10)\n",
        "n = np.expand_dims(n,1)\n",
        "n.shape"
      ],
      "metadata": {
        "colab": {
          "base_uri": "https://localhost:8080/"
        },
        "id": "6Ta9kpzJy5Cc",
        "outputId": "bfa4c5d0-39f5-4283-fd6c-9182bcb86220"
      },
      "execution_count": 25,
      "outputs": [
        {
          "output_type": "execute_result",
          "data": {
            "text/plain": [
              "(10, 1)"
            ]
          },
          "metadata": {},
          "execution_count": 25
        }
      ]
    },
    {
      "cell_type": "code",
      "source": [
        "n = np.zeros(10)\n",
        "n = np.expand_dims(n,0) # 차원을 앞에 다가 추가하는 것\n",
        "n.shape"
      ],
      "metadata": {
        "colab": {
          "base_uri": "https://localhost:8080/"
        },
        "id": "QpI7cZw9zGpp",
        "outputId": "41e14efa-7f4e-4081-d4fe-95f84994b3e8"
      },
      "execution_count": 26,
      "outputs": [
        {
          "output_type": "execute_result",
          "data": {
            "text/plain": [
              "(1, 10)"
            ]
          },
          "metadata": {},
          "execution_count": 26
        }
      ]
    },
    {
      "cell_type": "code",
      "source": [
        "n = np.zeros(10)\n",
        "n = np.expand_dims(n,-1)  # 차원을 맨 뒤에 추가하는 것\n",
        "n.shape"
      ],
      "metadata": {
        "id": "lnLsVDZ3zVAK"
      },
      "execution_count": null,
      "outputs": []
    },
    {
      "cell_type": "markdown",
      "source": [
        "# 슬라이싱"
      ],
      "metadata": {
        "id": "57Ff43CU1RgW"
      }
    },
    {
      "cell_type": "code",
      "source": [
        "n = np.random.rand(3, 4)\n",
        "n"
      ],
      "metadata": {
        "colab": {
          "base_uri": "https://localhost:8080/"
        },
        "id": "ZwA2uOvZ1dhp",
        "outputId": "dd6c8106-37f6-49e5-b57d-f2d30c4649bd"
      },
      "execution_count": 27,
      "outputs": [
        {
          "output_type": "execute_result",
          "data": {
            "text/plain": [
              "array([[0.67714524, 0.97490702, 0.30482828, 0.90256789],\n",
              "       [0.79008267, 0.52230567, 0.74937917, 0.97270067],\n",
              "       [0.7396214 , 0.73563833, 0.27281203, 0.6779128 ]])"
            ]
          },
          "metadata": {},
          "execution_count": 27
        }
      ]
    },
    {
      "cell_type": "code",
      "source": [
        "n = np.round(n * 100) # 정수로 바꿈\n",
        "n"
      ],
      "metadata": {
        "colab": {
          "base_uri": "https://localhost:8080/"
        },
        "id": "Trvgq4uz1iH0",
        "outputId": "8ec37eee-3d0f-446b-8a96-b99cf4c1901d"
      },
      "execution_count": 28,
      "outputs": [
        {
          "output_type": "execute_result",
          "data": {
            "text/plain": [
              "array([[68., 97., 30., 90.],\n",
              "       [79., 52., 75., 97.],\n",
              "       [74., 74., 27., 68.]])"
            ]
          },
          "metadata": {},
          "execution_count": 28
        }
      ]
    },
    {
      "cell_type": "code",
      "source": [
        "n[2,3]"
      ],
      "metadata": {
        "colab": {
          "base_uri": "https://localhost:8080/"
        },
        "id": "vGlAkEYh1xjD",
        "outputId": "211cbda6-253c-4c4b-aa9a-5110a76c36f8"
      },
      "execution_count": 29,
      "outputs": [
        {
          "output_type": "execute_result",
          "data": {
            "text/plain": [
              "68.0"
            ]
          },
          "metadata": {},
          "execution_count": 29
        }
      ]
    },
    {
      "cell_type": "code",
      "source": [
        "n[2,:]"
      ],
      "metadata": {
        "colab": {
          "base_uri": "https://localhost:8080/"
        },
        "id": "d3S9NiJs15vT",
        "outputId": "da8e9e00-8ad7-47b5-d812-c93f8ace20a8"
      },
      "execution_count": 30,
      "outputs": [
        {
          "output_type": "execute_result",
          "data": {
            "text/plain": [
              "array([74., 74., 27., 68.])"
            ]
          },
          "metadata": {},
          "execution_count": 30
        }
      ]
    },
    {
      "cell_type": "code",
      "source": [
        "n[2, 2:4] # 2번째 행에서 2에서 3까지의 수를 선택"
      ],
      "metadata": {
        "colab": {
          "base_uri": "https://localhost:8080/"
        },
        "id": "QC67oOzI2DBQ",
        "outputId": "f68b3f0c-9edf-42ea-ad10-f4c9e92e90ef"
      },
      "execution_count": 31,
      "outputs": [
        {
          "output_type": "execute_result",
          "data": {
            "text/plain": [
              "array([27., 68.])"
            ]
          },
          "metadata": {},
          "execution_count": 31
        }
      ]
    },
    {
      "cell_type": "code",
      "source": [
        "n[1:3, 2:4]"
      ],
      "metadata": {
        "colab": {
          "base_uri": "https://localhost:8080/"
        },
        "id": "5v_N9WPl2OV7",
        "outputId": "28bce8ea-73a7-46b4-b661-b89904258d93"
      },
      "execution_count": 32,
      "outputs": [
        {
          "output_type": "execute_result",
          "data": {
            "text/plain": [
              "array([[75., 97.],\n",
              "       [27., 68.]])"
            ]
          },
          "metadata": {},
          "execution_count": 32
        }
      ]
    },
    {
      "cell_type": "code",
      "source": [
        "n[0:4:2,:]"
      ],
      "metadata": {
        "colab": {
          "base_uri": "https://localhost:8080/"
        },
        "id": "TEpuR_Ez2XjZ",
        "outputId": "76baab71-8581-4219-e9aa-90168b840e42"
      },
      "execution_count": 34,
      "outputs": [
        {
          "output_type": "execute_result",
          "data": {
            "text/plain": [
              "array([[68., 97., 30., 90.],\n",
              "       [74., 74., 27., 68.]])"
            ]
          },
          "metadata": {},
          "execution_count": 34
        }
      ]
    },
    {
      "cell_type": "code",
      "source": [
        "n[:, 2:]"
      ],
      "metadata": {
        "colab": {
          "base_uri": "https://localhost:8080/"
        },
        "id": "UnvpM-tq2v2u",
        "outputId": "d50628f4-b93d-4a57-c6f9-f8bb6a09e542"
      },
      "execution_count": 35,
      "outputs": [
        {
          "output_type": "execute_result",
          "data": {
            "text/plain": [
              "array([[30., 90.],\n",
              "       [75., 97.],\n",
              "       [27., 68.]])"
            ]
          },
          "metadata": {},
          "execution_count": 35
        }
      ]
    },
    {
      "cell_type": "code",
      "source": [
        "n[:, :3]"
      ],
      "metadata": {
        "colab": {
          "base_uri": "https://localhost:8080/"
        },
        "id": "fV1JY2g62z1g",
        "outputId": "f6e1a981-a9e0-4d04-ae35-f02b01f4e734"
      },
      "execution_count": 36,
      "outputs": [
        {
          "output_type": "execute_result",
          "data": {
            "text/plain": [
              "array([[68., 97., 30.],\n",
              "       [79., 52., 75.],\n",
              "       [74., 74., 27.]])"
            ]
          },
          "metadata": {},
          "execution_count": 36
        }
      ]
    },
    {
      "cell_type": "markdown",
      "source": [
        "# np.max, np.min"
      ],
      "metadata": {
        "id": "FubRaaEw3xdR"
      }
    },
    {
      "cell_type": "code",
      "source": [
        "data = np.random.rand(3,5)\n",
        "data"
      ],
      "metadata": {
        "colab": {
          "base_uri": "https://localhost:8080/"
        },
        "id": "zisKvk0W2-jg",
        "outputId": "6be0f99b-61dd-4a88-da4f-b81e3a52aabe"
      },
      "execution_count": 42,
      "outputs": [
        {
          "output_type": "execute_result",
          "data": {
            "text/plain": [
              "array([[0.43346337, 0.7911553 , 0.72915208, 0.69173229, 0.43238496],\n",
              "       [0.03337047, 0.38627688, 0.4762409 , 0.83741306, 0.89753458],\n",
              "       [0.41396812, 0.24269195, 0.9213211 , 0.53524578, 0.85667329]])"
            ]
          },
          "metadata": {},
          "execution_count": 42
        }
      ]
    },
    {
      "cell_type": "code",
      "source": [
        "np.max(data)"
      ],
      "metadata": {
        "colab": {
          "base_uri": "https://localhost:8080/"
        },
        "id": "i5gC2bA73-kd",
        "outputId": "27b75230-5bb3-4eaf-f946-6c2e029f464a"
      },
      "execution_count": 43,
      "outputs": [
        {
          "output_type": "execute_result",
          "data": {
            "text/plain": [
              "0.9213210984343498"
            ]
          },
          "metadata": {},
          "execution_count": 43
        }
      ]
    },
    {
      "cell_type": "code",
      "source": [
        "np.min(data)"
      ],
      "metadata": {
        "colab": {
          "base_uri": "https://localhost:8080/"
        },
        "id": "H_0Md6754CdM",
        "outputId": "6603ea4a-cdd6-448d-a24d-f786799b1762"
      },
      "execution_count": 44,
      "outputs": [
        {
          "output_type": "execute_result",
          "data": {
            "text/plain": [
              "0.03337046970131996"
            ]
          },
          "metadata": {},
          "execution_count": 44
        }
      ]
    },
    {
      "cell_type": "code",
      "source": [
        "np.mean(data, axis=0) # 0번(cloumn) 축을 기준으로 data의 평균을 구하는 것\n",
        "# 값이 5개가 나오므로 cloumn을 기준으로 평균을 구했다는 것을 알 수 있음"
      ],
      "metadata": {
        "colab": {
          "base_uri": "https://localhost:8080/"
        },
        "id": "P08mwE7u4IUe",
        "outputId": "1ebb5617-d84f-4cb5-c4c4-5a888bcde16e"
      },
      "execution_count": 45,
      "outputs": [
        {
          "output_type": "execute_result",
          "data": {
            "text/plain": [
              "array([0.29360066, 0.47337471, 0.7089047 , 0.68813038, 0.72886428])"
            ]
          },
          "metadata": {},
          "execution_count": 45
        }
      ]
    },
    {
      "cell_type": "code",
      "source": [
        "np.mean(data, axis=1) # 1번(row) 축을 기준으로 평균을 구하는 것\n",
        "# 값이 3개가 나오므로 row을 기준으로 평균을 구했다는 것을 알 수 있음"
      ],
      "metadata": {
        "colab": {
          "base_uri": "https://localhost:8080/"
        },
        "id": "owBNvuQw4bQC",
        "outputId": "9707c225-feb1-4f44-b170-d4b16def9afb"
      },
      "execution_count": 46,
      "outputs": [
        {
          "output_type": "execute_result",
          "data": {
            "text/plain": [
              "array([0.6155776 , 0.52616718, 0.59398005])"
            ]
          },
          "metadata": {},
          "execution_count": 46
        }
      ]
    },
    {
      "cell_type": "markdown",
      "source": [
        "### 연습 (p.184, 186, 187)"
      ],
      "metadata": {
        "id": "DOSVAePz1cki"
      }
    },
    {
      "cell_type": "code",
      "source": [
        "data = np.array([[8.5, 200, 60.2, 450.3, 50],\n",
        "                 [12.3, 230.5, 56.3, 390.2, 35],\n",
        "                 [9.2, 190, 30, 500.4, 60]])"
      ],
      "metadata": {
        "id": "hINhfSFe47TI"
      },
      "execution_count": 47,
      "outputs": []
    },
    {
      "cell_type": "code",
      "source": [
        "data[:,1] # 멀리뛰기 값만 보기"
      ],
      "metadata": {
        "colab": {
          "base_uri": "https://localhost:8080/"
        },
        "id": "NGFIqXTh6tPf",
        "outputId": "45fbd718-afc6-4cf0-da23-f5a317f565ca"
      },
      "execution_count": 51,
      "outputs": [
        {
          "output_type": "execute_result",
          "data": {
            "text/plain": [
              "array([200. , 230.5, 190. ])"
            ]
          },
          "metadata": {},
          "execution_count": 51
        }
      ]
    },
    {
      "cell_type": "code",
      "source": [
        "idx = data[:, 1] > 190  # 멀리뛰기가 190 이상인 사람들\n",
        "data[idx,:]"
      ],
      "metadata": {
        "colab": {
          "base_uri": "https://localhost:8080/"
        },
        "id": "_lRnQm_r60wh",
        "outputId": "9f85dfaa-6dc3-46b1-fc12-535031df1f40"
      },
      "execution_count": 52,
      "outputs": [
        {
          "output_type": "execute_result",
          "data": {
            "text/plain": [
              "array([[  8.5, 200. ,  60.2, 450.3,  50. ],\n",
              "       [ 12.3, 230.5,  56.3, 390.2,  35. ]])"
            ]
          },
          "metadata": {},
          "execution_count": 52
        }
      ]
    },
    {
      "cell_type": "code",
      "source": [
        "data[data[:, 1] > 190,:]"
      ],
      "metadata": {
        "colab": {
          "base_uri": "https://localhost:8080/"
        },
        "id": "kBmZpFWe7Zn4",
        "outputId": "b69a92b6-3259-498c-ef14-ccc64731f316"
      },
      "execution_count": 53,
      "outputs": [
        {
          "output_type": "execute_result",
          "data": {
            "text/plain": [
              "array([[  8.5, 200. ,  60.2, 450.3,  50. ],\n",
              "       [ 12.3, 230.5,  56.3, 390.2,  35. ]])"
            ]
          },
          "metadata": {},
          "execution_count": 53
        }
      ]
    },
    {
      "cell_type": "code",
      "source": [
        "mean_v = np.mean(data, axis=0)\n",
        "std_v = np.std(data, axis=0)\n",
        "print(f'50m달리기: {mean_v[0]:.2f} +- {std_v[0]:.2f}')\n",
        "print(f'멀리뛰기: {mean_v[1]:.2f} +- {std_v[1]:.2f}')\n",
        "print(f'오래매달리기: {mean_v[2]:.2f} +- {std_v[2]:.2f}')\n",
        "print(f'오래달리기: {mean_v[3]:.2f} +- {std_v[3]:.2f}')\n",
        "print(f'윗몸일으키기: {mean_v[4]:.2f} +- {std_v[4]:.2f}')"
      ],
      "metadata": {
        "colab": {
          "base_uri": "https://localhost:8080/"
        },
        "id": "sL1y3Wpu5NUv",
        "outputId": "0522dd82-b4c7-41b5-be19-ba47385c77ae"
      },
      "execution_count": 50,
      "outputs": [
        {
          "output_type": "stream",
          "name": "stdout",
          "text": [
            "50m달리기: 10.00 +- 1.65\n",
            "멀리뛰기: 206.83 +- 17.23\n",
            "오래매달리기: 48.83 +- 13.41\n",
            "오래달리기: 446.97 +- 45.05\n",
            "윗몸일으키기: 48.33 +- 10.27\n"
          ]
        }
      ]
    },
    {
      "cell_type": "code",
      "source": [
        "data = np.array([1, 2, 5, 0. 1])\n",
        "idx_max = np.argmax(data)\n",
        "idx_min = np.argmin(data)\n",
        "print(f'최솟값은 {data[idx_min]} 입니다.')"
      ],
      "metadata": {
        "id": "tOxwvMei6I9L"
      },
      "execution_count": null,
      "outputs": []
    },
    {
      "cell_type": "markdown",
      "source": [
        "# 전역변수, 지역변수\n",
        "- 파라미터로 들어오는 변수와 전역변수의 변수의 이름이 같으면 코드가 헷갈리게 됨\n",
        "- 전역변수의 변수 이름과 지역변수의 변수 이름을 다르게 설정하기"
      ],
      "metadata": {
        "id": "-avfr3Iu8PZ_"
      }
    },
    {
      "cell_type": "code",
      "source": [
        "a = 3 # 전역변수"
      ],
      "metadata": {
        "id": "6d-9SG8t565J"
      },
      "execution_count": 54,
      "outputs": []
    },
    {
      "cell_type": "code",
      "source": [
        "def custom_func(d):\n",
        "  a = a + 1 # 이렇게 코드를 짜는 것은 권장되지 않음\n",
        "  # 코딩을 하다 보면 헷갈리게 됨\n",
        "  return a"
      ],
      "metadata": {
        "id": "9mu-SZKP8UDx"
      },
      "execution_count": 55,
      "outputs": []
    },
    {
      "cell_type": "code",
      "source": [
        "custom_func(a)"
      ],
      "metadata": {
        "colab": {
          "base_uri": "https://localhost:8080/"
        },
        "id": "ITkexoM88Xqo",
        "outputId": "8e036ec1-7db9-4737-d7aa-535c2c21d74f"
      },
      "execution_count": 57,
      "outputs": [
        {
          "output_type": "execute_result",
          "data": {
            "text/plain": [
              "4"
            ]
          },
          "metadata": {},
          "execution_count": 57
        }
      ]
    },
    {
      "cell_type": "code",
      "source": [
        "a"
      ],
      "metadata": {
        "colab": {
          "base_uri": "https://localhost:8080/"
        },
        "id": "Y9OeTm5j8ZYl",
        "outputId": "c942a066-022f-4f47-a736-d7b43f03ab6d"
      },
      "execution_count": 58,
      "outputs": [
        {
          "output_type": "execute_result",
          "data": {
            "text/plain": [
              "3"
            ]
          },
          "metadata": {},
          "execution_count": 58
        }
      ]
    },
    {
      "cell_type": "code",
      "source": [],
      "metadata": {
        "id": "N2jzNfWB8gBQ"
      },
      "execution_count": null,
      "outputs": []
    }
  ]
}
